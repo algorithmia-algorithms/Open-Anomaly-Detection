{
 "cells": [
  {
   "cell_type": "markdown",
   "metadata": {},
   "source": [
    "This tutorial will go through the steps to forecast anomalies using [Open Anomaly Detection](https://github.com/algorithmia-algorithms/OpenAnomalyDetection), [Open Forecast](https://github.com/algorithmia-algorithms/OpenForecast), and the [m4 competition](https://www.mcompetitions.unic.ac.cy/)'s dataset."
   ]
  },
  {
   "cell_type": "markdown",
   "metadata": {
    "collapsed": true
   },
   "source": [
    "First, lets download the m4 dataset, and unzip it."
   ]
  },
  {
   "cell_type": "code",
   "execution_count": null,
   "metadata": {},
   "outputs": [],
   "source": [
    "import requests\n",
    "import csv\n",
    "raw_data = requests.get('https://github.com/M4Competition/M4-methods/raw/master/Dataset/Train/Hourly-train.csv')\n",
    "data = []\n",
    "reader = csv.reader(raw_data.text.splitlines())\n",
    "\n",
    "for row in reader:\n",
    "    data.append(row)\n",
    "print(len(data))"
   ]
  },
  {
   "cell_type": "markdown",
   "metadata": {},
   "source": [
    "The data that we have is not formatted as you would expect for a CSV. rows are columns, and columns are rows - so we're going to need to flip this somehow. But first, lets get this into a proper numpy array."
   ]
  },
  {
   "cell_type": "code",
   "execution_count": null,
   "metadata": {},
   "outputs": [],
   "source": [
    "import numpy as np\n",
    "import pandas as pd\n",
    "def trim_to_first_nan(variable):\n",
    "    r\"\"\"\n",
    "    This function uses `pandas` to find non-numeric characters (missing values, or invalid entries) for each variable.\n",
    "    When a non-numeric character is found, the algorithm then trims the variable sequence  from 0 -> last numeric value.\n",
    "    \"\"\"\n",
    "\n",
    "    variable = pd.to_numeric(variable, errors='coerce')\n",
    "    nans = np.isnan(variable)\n",
    "    has_nans = nans.any()\n",
    "    if has_nans:\n",
    "        first_nan_index = np.where(nans == True)[0][0]\n",
    "        output = variable[0:first_nan_index]\n",
    "    else:\n",
    "        output = variable\n",
    "    return output"
   ]
  },
  {
   "cell_type": "code",
   "execution_count": null,
   "metadata": {},
   "outputs": [],
   "source": [
    "r\"\"\"\n",
    "* We limit the maximum number of variables to \"max_vars\", so even if most of our variables are\n",
    "longer than \"sequence_length\", we truncate the rest to keep the formatted dataset trim.\n",
    "* And finally, for our demo we are only selecting the first variable as a 'key_variable', you can change this\n",
    "as desired.\n",
    "\"\"\"\n",
    "\n",
    "max_vars = 5\n",
    "length = 500\n",
    "\n",
    "in_tensor = np.asarray(data)[1:, 1:]\n",
    "out_tensor = []\n",
    "for i in range(max_vars):\n",
    "    variable = in_tensor[i, :]\n",
    "    var_data = trim_to_first_nan(variable)\n",
    "    if var_data.shape[0] >= length:\n",
    "        var_data = var_data[0:length]\n",
    "        out_tensor.append(var_data)\n",
    "if len(out_tensor) == 0:\n",
    "    raise Exception('the requested sequence length is too long for your data, please select a smaller number.')\n",
    "else:\n",
    "    out_tensor = np.stack(out_tensor, axis=1)\n",
    "serializable_tensor = out_tensor.tolist()\n",
    "ingestable_input = {'tensor': serializable_tensor}\n",
    "print(out_tensor.shape)"
   ]
  },
  {
   "cell_type": "markdown",
   "metadata": {},
   "source": [
    "Great, our tensor is formatted and ready to go. Lets serialize this to a file, so we can use algorithmia to train a model with it."
   ]
  },
  {
   "cell_type": "code",
   "execution_count": null,
   "metadata": {},
   "outputs": [],
   "source": [
    "algorithmia_api_key = input(\"what's your algorithmia api key?\")"
   ]
  },
  {
   "cell_type": "code",
   "execution_count": null,
   "metadata": {},
   "outputs": [],
   "source": [
    "import Algorithmia\n",
    "client = Algorithmia.client(algorithmia_api_key)\n",
    "\n",
    "client.file('data://.my/example_collection/m4-hourly-data.json').putJson(ingestable_input)"
   ]
  },
  {
   "cell_type": "markdown",
   "metadata": {},
   "source": [
    "With that done, lets now go and create a forecasting model using the Open Forecast algorithm on Algorithmia."
   ]
  },
  {
   "cell_type": "code",
   "execution_count": null,
   "metadata": {},
   "outputs": [],
   "source": [
    "forecast_algorithm = client.algo('algo://timeseries/openforecast/1.1.0')\n",
    "forecast_input = {\n",
    "    'mode': 'train',\n",
    "    'data_path': 'data://.my/example_collection/m4-hourly-data.json',\n",
    "    'model_output_path': 'data://.my/example_collection/m4-hourly-model_0.1.0.zip',\n",
    "    'training_time': 100,\n",
    "    'model_complexity': 0.65,\n",
    "    'forecast_length': 5\n",
    "}\n",
    "\n",
    "#result = forecast_algorithm.pipe(input).result\n",
    "#print(result)"
   ]
  },
  {
   "cell_type": "markdown",
   "metadata": {},
   "source": [
    "Since the above will take ~100+ seconds to complete, lets skip that step and use the model that we've already trained."
   ]
  },
  {
   "cell_type": "code",
   "execution_count": null,
   "metadata": {},
   "outputs": [],
   "source": [
    "model_path = 'data://.my/example_collection/m4-hourly-model_0.1.0.zip'\n",
    "data_path = 'data://.my/example_collection/m4-hourly-data.json'\n",
    "output_graph_path = 'data://.my/example_collection/graph_path.png'\n",
    "\n",
    "anomaly_algorithm = client.algo('algo://timeseries/openanomalydetection/1.0.0')\n",
    "anom_input = {\n",
    "    'data_path': data_path,\n",
    "    'model_input_path': model_path,\n",
    "    'graph_save_path': output_graph_path,\n",
    "    'sigma_threshold': 3,\n",
    "    'variable_index': 0,\n",
    "    'calibration_percentage': 0.1\n",
    "}\n",
    "\n",
    "anom_result = anomaly_algorithm.pipe(anom_input)\n",
    "\n",
    "\n",
    "print(anom_result)\n"
   ]
  },
  {
   "cell_type": "markdown",
   "metadata": {},
   "source": [
    "Sweet, finally lets load up our graph and take a look at it using matplotlib."
   ]
  },
  {
   "cell_type": "code",
   "execution_count": null,
   "metadata": {},
   "outputs": [],
   "source": [
    "from IPython.display import Image\n",
    "Image(\"/tmp/graph_path.png\")"
   ]
  }
 ],
 "metadata": {
  "kernelspec": {
   "display_name": "Python 2",
   "language": "python",
   "name": "python2"
  },
  "language_info": {
   "codemirror_mode": {
    "name": "ipython",
    "version": 2
   },
   "file_extension": ".py",
   "mimetype": "text/x-python",
   "name": "python",
   "nbconvert_exporter": "python",
   "pygments_lexer": "ipython2",
   "version": "2.7.6"
  }
 },
 "nbformat": 4,
 "nbformat_minor": 0
}
